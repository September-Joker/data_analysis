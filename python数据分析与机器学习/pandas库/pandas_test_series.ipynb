{
 "cells": [
  {
   "cell_type": "code",
   "execution_count": 2,
   "metadata": {},
   "outputs": [
    {
     "name": "stdout",
     "output_type": "stream",
     "text": [
      "<class 'pandas.core.series.Series'>\n",
      "-------------\n",
      "0    Avengers: Age of Ultron (2015)\n",
      "1                 Cinderella (2015)\n",
      "2                    Ant-Man (2015)\n",
      "3            Do You Believe? (2015)\n",
      "4     Hot Tub Time Machine 2 (2015)\n",
      "Name: FILM, dtype: object\n",
      "-------------\n",
      "0    74\n",
      "1    85\n",
      "2    80\n",
      "3    18\n",
      "4    14\n",
      "Name: RottenTomatoes, dtype: int64\n"
     ]
    }
   ],
   "source": [
    "import pandas as pd\n",
    "\n",
    "fandango = pd.read_csv('fandango_score_comparison.csv')\n",
    "series_film = fandango['FILM']\n",
    "print(type(series_film))\n",
    "print('-------------')\n",
    "print(series_film[0:5])\n",
    "print('-------------')\n",
    "series_rt = fandango['RottenTomatoes']\n",
    "print(series_rt[0:5])"
   ]
  },
  {
   "cell_type": "code",
   "execution_count": 10,
   "metadata": {},
   "outputs": [
    {
     "name": "stdout",
     "output_type": "stream",
     "text": [
      "<class 'numpy.ndarray'>\n",
      "<class 'numpy.ndarray'>\n",
      "The Water Diviner (2015)        63\n",
      "Irrational Man (2015)           42\n",
      "Top Five (2014)                 86\n",
      "Shaun the Sheep Movie (2015)    99\n",
      "Love & Mercy (2015)             89\n",
      "dtype: int64\n"
     ]
    }
   ],
   "source": [
    "film_name = series_film.values\n",
    "print(type(film_name))\n",
    "\n",
    "rt_scores = series_rt.values\n",
    "print(type(rt_scores))\n",
    "\n",
    "# series_custom = pd.Series(rt_scores, index=film_names)\n",
    "series_custom = pd.Series(rt_scores,index=film_name)\n",
    "# series_custom['a (2015)','b (2018)']\n",
    "fiveten = series_custom[5:10]\n",
    "print(fiveten)"
   ]
  },
  {
   "cell_type": "code",
   "execution_count": 11,
   "metadata": {},
   "outputs": [
    {
     "name": "stdout",
     "output_type": "stream",
     "text": [
      "[\"'71 (2015)\", '5 Flights Up (2015)', 'A Little Chaos (2015)', 'A Most Violent Year (2014)', 'About Elly (2015)', 'Aloha (2015)', 'American Sniper (2015)', 'American Ultra (2015)', 'Amy (2015)', 'Annie (2014)', 'Ant-Man (2015)', 'Avengers: Age of Ultron (2015)', 'Big Eyes (2014)', 'Birdman (2014)', 'Black Sea (2015)', 'Black or White (2015)', 'Blackhat (2015)', 'Cake (2015)', 'Chappie (2015)', 'Child 44 (2015)', 'Cinderella (2015)', 'Clouds of Sils Maria (2015)', 'Danny Collins (2015)', 'Dark Places (2015)', 'Do You Believe? (2015)', 'Dope (2015)', 'Entourage (2015)', 'Escobar: Paradise Lost (2015)', 'Ex Machina (2015)', 'Fantastic Four (2015)', 'Far From The Madding Crowd (2015)', 'Fifty Shades of Grey (2015)', 'Focus (2015)', 'Furious 7 (2015)', 'Get Hard (2015)', 'Gett: The Trial of Viviane Amsalem (2015)', 'Hitman: Agent 47 (2015)', 'Home (2015)', 'Hot Pursuit (2015)', 'Hot Tub Time Machine 2 (2015)', \"I'll See You In My Dreams (2015)\", 'Infinitely Polar Bear (2015)', 'Inherent Vice (2014)', 'Inside Out (2015)', 'Insidious: Chapter 3 (2015)', 'Into the Woods (2014)', 'Irrational Man (2015)', 'It Follows (2015)', 'Jupiter Ascending (2015)', 'Jurassic World (2015)', 'Kingsman: The Secret Service (2015)', 'Kumiko, The Treasure Hunter (2015)', 'Leviathan (2014)', 'Little Boy (2015)', 'Love & Mercy (2015)', 'Mad Max: Fury Road (2015)', 'Maggie (2015)', 'Magic Mike XXL (2015)', 'Maps to the Stars (2015)', 'Max (2015)', 'McFarland, USA (2015)', 'Me and Earl and The Dying Girl (2015)', 'Minions (2015)', 'Mission: Impossible â€“ Rogue Nation (2015)', 'Monkey Kingdom (2015)', 'Mortdecai (2015)', 'Mr. Holmes (2015)', 'Mr. Turner (2014)', 'Night at the Museum: Secret of the Tomb (2014)', 'Paddington (2015)', 'Paper Towns (2015)', 'Paul Blart: Mall Cop 2 (2015)', 'Phoenix (2015)', 'Pitch Perfect 2 (2015)', 'Pixels (2015)', 'Poltergeist (2015)', 'Project Almanac (2015)', 'Red Army (2015)', 'Ricki and the Flash (2015)', 'Run All Night (2015)', 'Saint Laurent (2015)', 'San Andreas (2015)', 'Self/less (2015)', 'Selma (2014)', 'Serena (2015)', 'Seventh Son (2015)', 'Seymour: An Introduction (2015)', 'Shaun the Sheep Movie (2015)', 'Sinister 2 (2015)', 'Song of the Sea (2014)', 'Southpaw (2015)', 'Spare Parts (2015)', 'Spy (2015)', 'Still Alice (2015)', 'Straight Outta Compton (2015)', 'Strange Magic (2015)', 'Taken 3 (2015)', 'Tangerine (2015)', 'Ted 2 (2015)', 'Terminator Genisys (2015)', 'Testament of Youth (2015)', 'The 100-Year-Old Man Who Climbed Out the Window and Disappeared (2015)', 'The Age of Adaline (2015)', 'The Boy Next Door (2015)', 'The DUFF (2015)', 'The Diary of a Teenage Girl (2015)', 'The Divergent Series: Insurgent (2015)', 'The End of the Tour (2015)', 'The Gallows (2015)', 'The Gift (2015)', 'The Gunman (2015)', 'The Hobbit: The Battle of the Five Armies (2014)', 'The Hunting Ground (2015)', 'The Imitation Game (2014)', 'The Last Five Years (2015)', 'The Lazarus Effect (2015)', 'The Loft (2015)', 'The Longest Ride (2015)', 'The Man From U.N.C.L.E. (2015)', 'The Overnight (2015)', 'The Salt of the Earth (2015)', 'The Second Best Exotic Marigold Hotel (2015)', 'The SpongeBob Movie: Sponge Out of Water (2015)', 'The Stanford Prison Experiment (2015)', 'The Vatican Tapes (2015)', 'The Water Diviner (2015)', 'The Wedding Ringer (2015)', 'The Wolfpack (2015)', 'The Woman In Black 2 Angel of Death (2015)', 'The Wrecking Crew (2015)', 'Timbuktu (2015)', 'Tomorrowland (2015)', 'Top Five (2014)', 'Trainwreck (2015)', 'True Story (2015)', 'Two Days, One Night (2014)', 'Unbroken (2014)', 'Unfinished Business (2015)', 'Unfriended (2015)', 'Vacation (2015)', 'Welcome to Me (2015)', 'What We Do in the Shadows (2015)', 'When Marnie Was There (2015)', \"While We're Young (2015)\", 'Wild Tales (2014)', 'Woman in Gold (2015)']\n",
      "-------------\n",
      "'71 (2015)                                         97\n",
      "5 Flights Up (2015)                                52\n",
      "A Little Chaos (2015)                              40\n",
      "A Most Violent Year (2014)                         90\n",
      "About Elly (2015)                                  97\n",
      "Aloha (2015)                                       19\n",
      "American Sniper (2015)                             72\n",
      "American Ultra (2015)                              46\n",
      "Amy (2015)                                         97\n",
      "Annie (2014)                                       27\n",
      "Ant-Man (2015)                                     80\n",
      "Avengers: Age of Ultron (2015)                     74\n",
      "Big Eyes (2014)                                    72\n",
      "Birdman (2014)                                     92\n",
      "Black Sea (2015)                                   82\n",
      "Black or White (2015)                              39\n",
      "Blackhat (2015)                                    34\n",
      "Cake (2015)                                        49\n",
      "Chappie (2015)                                     30\n",
      "Child 44 (2015)                                    26\n",
      "Cinderella (2015)                                  85\n",
      "Clouds of Sils Maria (2015)                        89\n",
      "Danny Collins (2015)                               77\n",
      "Dark Places (2015)                                 26\n",
      "Do You Believe? (2015)                             18\n",
      "Dope (2015)                                        87\n",
      "Entourage (2015)                                   32\n",
      "Escobar: Paradise Lost (2015)                      52\n",
      "Ex Machina (2015)                                  92\n",
      "Fantastic Four (2015)                               9\n",
      "                                                   ..\n",
      "The Loft (2015)                                    11\n",
      "The Longest Ride (2015)                            31\n",
      "The Man From U.N.C.L.E. (2015)                     68\n",
      "The Overnight (2015)                               82\n",
      "The Salt of the Earth (2015)                       96\n",
      "The Second Best Exotic Marigold Hotel (2015)       62\n",
      "The SpongeBob Movie: Sponge Out of Water (2015)    78\n",
      "The Stanford Prison Experiment (2015)              84\n",
      "The Vatican Tapes (2015)                           13\n",
      "The Water Diviner (2015)                           63\n",
      "The Wedding Ringer (2015)                          27\n",
      "The Wolfpack (2015)                                84\n",
      "The Woman In Black 2 Angel of Death (2015)         22\n",
      "The Wrecking Crew (2015)                           93\n",
      "Timbuktu (2015)                                    99\n",
      "Tomorrowland (2015)                                50\n",
      "Top Five (2014)                                    86\n",
      "Trainwreck (2015)                                  85\n",
      "True Story (2015)                                  45\n",
      "Two Days, One Night (2014)                         97\n",
      "Unbroken (2014)                                    51\n",
      "Unfinished Business (2015)                         11\n",
      "Unfriended (2015)                                  60\n",
      "Vacation (2015)                                    27\n",
      "Welcome to Me (2015)                               71\n",
      "What We Do in the Shadows (2015)                   96\n",
      "When Marnie Was There (2015)                       89\n",
      "While We're Young (2015)                           83\n",
      "Wild Tales (2014)                                  96\n",
      "Woman in Gold (2015)                               52\n",
      "Length: 146, dtype: int64\n"
     ]
    }
   ],
   "source": [
    "ori_index = series_custom.index.tolist()\n",
    "sorted_index = sorted(ori_index)\n",
    "print(sorted_index)\n",
    "print('-------------')\n",
    "sort_by_index = series_custom.reindex(sorted_index)\n",
    "print(sort_by_index)"
   ]
  },
  {
   "cell_type": "code",
   "execution_count": null,
   "metadata": {},
   "outputs": [],
   "source": []
  }
 ],
 "metadata": {
  "kernelspec": {
   "display_name": "Python 3",
   "language": "python",
   "name": "python3"
  },
  "language_info": {
   "codemirror_mode": {
    "name": "ipython",
    "version": 3
   },
   "file_extension": ".py",
   "mimetype": "text/x-python",
   "name": "python",
   "nbconvert_exporter": "python",
   "pygments_lexer": "ipython3",
   "version": "3.6.5"
  }
 },
 "nbformat": 4,
 "nbformat_minor": 2
}
